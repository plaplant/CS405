{
 "cells": [
  {
   "cell_type": "markdown",
   "id": "48037376",
   "metadata": {},
   "source": [
    "# Market Leadership\n",
    "\n",
    "![Market Leadership](market_leadership.png)"
   ]
  },
  {
   "cell_type": "markdown",
   "id": "dc3b401a",
   "metadata": {},
   "source": [
    "# Electric Vehicles\n",
    "\n",
    "![Electric vehicles](electric_vehicles.png)"
   ]
  },
  {
   "cell_type": "markdown",
   "id": "fa121ad5",
   "metadata": {},
   "source": [
    "# Tech Stock\n",
    "\n",
    "![Tech Stock](tech_stock.png)"
   ]
  },
  {
   "cell_type": "markdown",
   "id": "a397e32b",
   "metadata": {},
   "source": [
    "# Banks\n",
    "\n",
    "![Banks](banks.png)"
   ]
  },
  {
   "cell_type": "markdown",
   "id": "edc1ff9b",
   "metadata": {},
   "source": [
    "# World Cup\n",
    "\n",
    "![World Cup](world_cup.png)"
   ]
  },
  {
   "cell_type": "code",
   "execution_count": null,
   "id": "efbb76fe",
   "metadata": {},
   "outputs": [],
   "source": []
  }
 ],
 "metadata": {
  "kernelspec": {
   "display_name": "Python 3 (ipykernel)",
   "language": "python",
   "name": "python3"
  },
  "language_info": {
   "codemirror_mode": {
    "name": "ipython",
    "version": 3
   },
   "file_extension": ".py",
   "mimetype": "text/x-python",
   "name": "python",
   "nbconvert_exporter": "python",
   "pygments_lexer": "ipython3",
   "version": "3.10.6"
  }
 },
 "nbformat": 4,
 "nbformat_minor": 5
}
