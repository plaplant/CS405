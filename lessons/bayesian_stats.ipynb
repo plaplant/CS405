{
 "cells": [
  {
   "cell_type": "code",
   "execution_count": 1,
   "id": "4c11a03e",
   "metadata": {},
   "outputs": [],
   "source": [
    "%matplotlib inline\n",
    "import numpy as np\n",
    "import matplotlib\n",
    "import matplotlib.pyplot as plt"
   ]
  },
  {
   "cell_type": "code",
   "execution_count": 2,
   "id": "63880d10",
   "metadata": {},
   "outputs": [],
   "source": [
    "matplotlib.rc(\"text\", usetex=True)\n",
    "matplotlib.rc(\"font\", family=\"serif\")\n",
    "matplotlib.style.use(\"dark_background\")"
   ]
  },
  {
   "cell_type": "markdown",
   "id": "39502875",
   "metadata": {},
   "source": [
    "# Drug Tests\n",
    "\n",
    "Suppose we have a drug test that is 90% sensitive (i.e., it has a true positive rate of 0.9). The test is 80% specific (i.e., it correctly identifies non-users 80% of the time, but has a false positive rate of 0.2). Assume that 5% of people are drug users. Calculate the probability that a random person who tests positive is actually a drug user."
   ]
  },
  {
   "cell_type": "code",
   "execution_count": 3,
   "id": "5d7bd2af",
   "metadata": {},
   "outputs": [
    {
     "name": "stdout",
     "output_type": "stream",
     "text": [
      "probability: 0.191\n"
     ]
    }
   ],
   "source": [
    "likelihood = 0.9\n",
    "prior = 0.05\n",
    "pb1 = 0.9 * 0.05\n",
    "pb2 = 0.2 * 0.95\n",
    "pb_tot = pb1 + pb2\n",
    "posterior = likelihood * prior / pb_tot\n",
    "print(f\"probability: {posterior:0.3f}\")"
   ]
  },
  {
   "cell_type": "code",
   "execution_count": 4,
   "id": "9ee21d19",
   "metadata": {},
   "outputs": [
    {
     "name": "stdout",
     "output_type": "stream",
     "text": [
      "normalization: 0.235\n"
     ]
    }
   ],
   "source": [
    "print(f\"normalization: {pb_tot:0.3f}\")"
   ]
  },
  {
   "cell_type": "markdown",
   "id": "09e9db4e",
   "metadata": {},
   "source": [
    "# Monty Hall Problem"
   ]
  },
  {
   "cell_type": "code",
   "execution_count": 5,
   "id": "7785e406",
   "metadata": {},
   "outputs": [
    {
     "name": "stdout",
     "output_type": "stream",
     "text": [
      "fraction of games won by staying:  0.33393\n",
      "fraction of games won by switching:  0.66607\n"
     ]
    }
   ],
   "source": [
    "import random\n",
    "\n",
    "n_games = 100000\n",
    "\n",
    "n_switch = 0\n",
    "n_stay = 0\n",
    "for i in range(n_games):\n",
    "    doors = [1, 0, 0]  # 1 = \"car\", 0 = \"nothing\"\n",
    "    # randomize the ordering of the doors\n",
    "    random.shuffle(doors)\n",
    "\n",
    "    # pick a random door\n",
    "    guess = random.randrange(len(doors))\n",
    "    # record player's initial guess\n",
    "    initial_door = doors[guess]\n",
    "\n",
    "    # remove player's guess from list\n",
    "    del doors[guess]\n",
    "\n",
    "    # reveal a bogus door\n",
    "    for i in range(len(doors)):\n",
    "        if doors[i] == 0:\n",
    "            del doors[i]\n",
    "            break\n",
    "\n",
    "    # if choice is to switch, pick a random door from the remaining ones\n",
    "    guess = random.randrange(len(doors))\n",
    "\n",
    "    # compute probability of winning/switching\n",
    "    if initial_door == 1:\n",
    "        n_stay += 1\n",
    "\n",
    "    if doors[guess] == 1:\n",
    "        n_switch += 1\n",
    "\n",
    "# print out results\n",
    "print(\"fraction of games won by staying: \", n_stay / n_games)\n",
    "print(\"fraction of games won by switching: \", n_switch / n_games)"
   ]
  },
  {
   "cell_type": "code",
   "execution_count": null,
   "id": "d7f50cb0",
   "metadata": {},
   "outputs": [],
   "source": []
  }
 ],
 "metadata": {
  "kernelspec": {
   "display_name": "Python 3 (ipykernel)",
   "language": "python",
   "name": "python3"
  },
  "language_info": {
   "codemirror_mode": {
    "name": "ipython",
    "version": 3
   },
   "file_extension": ".py",
   "mimetype": "text/x-python",
   "name": "python",
   "nbconvert_exporter": "python",
   "pygments_lexer": "ipython3",
   "version": "3.10.6"
  }
 },
 "nbformat": 4,
 "nbformat_minor": 5
}
