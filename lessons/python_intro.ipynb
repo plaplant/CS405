{
 "cells": [
  {
   "cell_type": "markdown",
   "id": "e9da0ad2",
   "metadata": {},
   "source": [
    "# Python and Jupyter Notebooks\n",
    "\n",
    "Welcome to Python! Python is a high-level, object oriented, interpreted language that focuses on being user-friendly at the cost of performance and speed. At the same time, Python has great support for using different libraries, and many of these libraries _are_ capable of achieving good performance. In this course, we're going to learn how to use Python and its libraries to perform data analysis on large datasets, and present the results in an intuitive and meaningful way. Until we plot data, they're just floating point numbers sitting on a disk, so we want to make sense out them.\n",
    "\n",
    "To help us do this, we're going to make use of Jupyter Notebooks (like the one you're reading now). Jupyter is a common framework for several different languages (\"Jupyter\" was originally an acronym-ish of \"Julia, Python, and R\") and an excellent way to combine running code, description, and plots all into one package. Jupyter lets you write Python code and execute it in an interactive fashion, and share your results in an easy and straightforward way. Jupyter notebooks are an industry-standard way of exploring and sharing data in the Data Science community, and are flexible and easily adapted. But enough talk, let's dig in!"
   ]
  },
  {
   "cell_type": "markdown",
   "id": "aefb12c7",
   "metadata": {},
   "source": [
    "## Jupyter Notebook Basics\n",
    "\n",
    "Jupyter notebooks have two kinds of cells: \"code\" and \"markdown\". \"Code\" are live code blocks that can be executed by hitting the \"Run\" button in the bar, or by hitting \"Shift + Enter\" on the keyboard. \"Markdown\" cells contain text input, which can be formatted as text, bulleted lists, code, and even LaTeX for typeset mathematics. We'll make use of all of these types in the examples below.\n",
    "\n",
    "## Executing Code\n",
    "\n",
    "The code cells in Jupyter notebooks can be executed and print output directly to the notebook. This output can be text or even figures. To execute code, the Jupyter notebook needs to spawn a _kernel_, which is a background task that handles all of the actual execution. You can still view Jupyter notebooks even without a kernel, which makes them useful for sharing data and results. But to do any live execution, a kernel is required. This kernel can either run locally, on your own machine, or on a remote computing cluster, where the Jupyter notebook is running in your browser window but executing code elsewhere. This approach makes notebooks very flexible and powerful."
   ]
  },
  {
   "cell_type": "markdown",
   "id": "9bbaeeb1",
   "metadata": {},
   "source": [
    "# Python basics\n",
    "\n",
    "Python is an _interpreted_ language, which means that it does not need to be compiled before it can be run. As a trade-off, this makes it slower than a compiled language, but we can make use of high-performance libraries to recoup some of these losses for performance-critical code. But to start out, we'll begin with some of the basics of Python.\n",
    "\n",
    "Python is a _dynamically typed_ language, which means that variable types are determined at runtime. An implication of this is that variable types do not need to be declared before they are used. The interpreter will determine the type of objects as it encounters them and adjust accordingly. Python is also a _strongly typed_ language, which means that once variable types are determined, there are well-defined rules for how operations between them behave. In particular, Python does relatively little type coercion to get disparate types to work for a given operation. Instead, the programmer can explicitly _cast_ objects to different types if needed. This involved calling a function, like `int` on a datatype or variable to convert its type.\n",
    "\n",
    "Let's start off with the classic \"Hello world!\" example. In Python, this looks like this:"
   ]
  },
  {
   "cell_type": "code",
   "execution_count": null,
   "id": "ebdbc097",
   "metadata": {},
   "outputs": [],
   "source": [
    "print(\"Hello, world!\")"
   ]
  },
  {
   "cell_type": "markdown",
   "id": "551a01ce",
   "metadata": {},
   "source": [
    "In the above code, we used the `print` function, which takes a string as an argument, which then prints the content to standard out. String data in Python is denoted using quotes. Single quotes (`'`) and double quotes (`\"`) are equivalent.\n",
    "\n",
    "Now let's do some basic math:"
   ]
  },
  {
   "cell_type": "code",
   "execution_count": null,
   "id": "031604e0",
   "metadata": {},
   "outputs": [],
   "source": [
    "1 + 1 "
   ]
  },
  {
   "cell_type": "markdown",
   "id": "f64bf1df",
   "metadata": {},
   "source": [
    "We have added together two integers. So far, so good! What about floating point numbers?"
   ]
  },
  {
   "cell_type": "code",
   "execution_count": null,
   "id": "694e6daf",
   "metadata": {},
   "outputs": [],
   "source": [
    "1 + 1.5"
   ]
  },
  {
   "cell_type": "markdown",
   "id": "c40bd7cb",
   "metadata": {},
   "source": [
    "Python was smart enough to figure out that I needed to use floating point arithmetic to avoid losing precision, and automaticall promoted my integer data accordingly. It will keep the data as floating point, even if it can be rounded, and format my output accordingly:"
   ]
  },
  {
   "cell_type": "code",
   "execution_count": null,
   "id": "74104f11",
   "metadata": {},
   "outputs": [],
   "source": [
    "1.5 + 1.5"
   ]
  },
  {
   "cell_type": "code",
   "execution_count": null,
   "id": "8d298c19",
   "metadata": {},
   "outputs": [],
   "source": [
    "int(3.0)"
   ]
  },
  {
   "cell_type": "markdown",
   "id": "53f08cc8",
   "metadata": {},
   "source": [
    "We can also do multiplication and division:"
   ]
  },
  {
   "cell_type": "code",
   "execution_count": null,
   "id": "9a46a8d6",
   "metadata": {},
   "outputs": [],
   "source": [
    "2 * 2"
   ]
  },
  {
   "cell_type": "code",
   "execution_count": null,
   "id": "7c338df8",
   "metadata": {},
   "outputs": [],
   "source": [
    "1.5 * 2"
   ]
  },
  {
   "cell_type": "code",
   "execution_count": null,
   "id": "890d7c84",
   "metadata": {},
   "outputs": [],
   "source": [
    "3 / 2"
   ]
  },
  {
   "cell_type": "markdown",
   "id": "d6650f2c",
   "metadata": {},
   "source": [
    "In this last example, note that I put in two integers, but got a floating point number as output. This is a change from Python 2 to Python 3! I can get integer division by using the `//` operator:"
   ]
  },
  {
   "cell_type": "code",
   "execution_count": null,
   "id": "0187c86d",
   "metadata": {},
   "outputs": [],
   "source": [
    "3 // 2"
   ]
  },
  {
   "cell_type": "markdown",
   "id": "bcd09927",
   "metadata": {},
   "source": [
    "We can also do exponentiation using the `**` operator:"
   ]
  },
  {
   "cell_type": "code",
   "execution_count": null,
   "id": "0634f350",
   "metadata": {},
   "outputs": [],
   "source": [
    "2**3"
   ]
  },
  {
   "cell_type": "markdown",
   "id": "7398dc72",
   "metadata": {},
   "source": [
    "Python is also capable of performing complex arithmetic, where we use the `j` suffix to denote the imaginary unit:"
   ]
  },
  {
   "cell_type": "code",
   "execution_count": null,
   "id": "785542c2",
   "metadata": {},
   "outputs": [],
   "source": [
    "(1 + 1j) * (2 - 3j)"
   ]
  },
  {
   "cell_type": "markdown",
   "id": "f020379b",
   "metadata": {},
   "source": [
    "# Variable Assignment\n",
    "\n",
    "We can _assign_ objects to variable names by using the assignment operator `=`. This allows us to reference them later. We do not need to tell Python the type of a variable ahead of time: the interpreter will figure it out for us!"
   ]
  },
  {
   "cell_type": "code",
   "execution_count": null,
   "id": "4c555a2a",
   "metadata": {},
   "outputs": [],
   "source": [
    "a = 1\n",
    "print(a)"
   ]
  },
  {
   "cell_type": "code",
   "execution_count": null,
   "id": "adb2b389",
   "metadata": {},
   "outputs": [],
   "source": [
    "a = 1\n",
    "b = 2\n",
    "a + b"
   ]
  },
  {
   "cell_type": "markdown",
   "id": "71b9c393",
   "metadata": {},
   "source": [
    "Note that statements are evaluated immediately, even if the assigned value changes later:"
   ]
  },
  {
   "cell_type": "code",
   "execution_count": null,
   "id": "acc96685",
   "metadata": {},
   "outputs": [],
   "source": [
    "a = 1\n",
    "b = 2\n",
    "c = a + b\n",
    "b = 10\n",
    "print(\"a, b, c: \", a, b, c)"
   ]
  },
  {
   "cell_type": "markdown",
   "id": "baa61cd1",
   "metadata": {},
   "source": [
    "# Python Data Types\n",
    "\n",
    "The above operations were performed on primitive data types, like integers and floating point numbers. We can find out the type of an object using the `type` function:"
   ]
  },
  {
   "cell_type": "code",
   "execution_count": null,
   "id": "98cac263",
   "metadata": {},
   "outputs": [],
   "source": [
    "type(1)"
   ]
  },
  {
   "cell_type": "code",
   "execution_count": null,
   "id": "cc07d1c8",
   "metadata": {},
   "outputs": [],
   "source": [
    "type(1.0)"
   ]
  },
  {
   "cell_type": "code",
   "execution_count": null,
   "id": "b92797fb",
   "metadata": {},
   "outputs": [],
   "source": [
    "type(\"Hello, world!\")"
   ]
  },
  {
   "cell_type": "code",
   "execution_count": null,
   "id": "76591da6",
   "metadata": {},
   "outputs": [],
   "source": [
    "type(True)"
   ]
  },
  {
   "cell_type": "code",
   "execution_count": null,
   "id": "d157f480",
   "metadata": {},
   "outputs": [],
   "source": [
    "type((1 + 1j))"
   ]
  },
  {
   "cell_type": "markdown",
   "id": "081b4b18",
   "metadata": {},
   "source": [
    "## Lists\n",
    "\n",
    "We can also have collections of objects. The most basic object in Python is the `list`. We denote a list using square brackets `[ ]`. Lists can contain objects of different types, and preserve the type of individual elements:"
   ]
  },
  {
   "cell_type": "code",
   "execution_count": null,
   "id": "1babe48b",
   "metadata": {},
   "outputs": [],
   "source": [
    "mylist = [1, 1.0, \"Hello, world!\", True]\n",
    "print(mylist)"
   ]
  },
  {
   "cell_type": "markdown",
   "id": "6fb1db2a",
   "metadata": {},
   "source": [
    "We can access individual elements by _indexing_ the list, using square brackets following the variable name without a space. Lists are 0-indexed in Python. For example, to get the first (\"zero-th\") element of `mylist`, I can do:"
   ]
  },
  {
   "cell_type": "code",
   "execution_count": null,
   "id": "d44bb74f",
   "metadata": {},
   "outputs": [],
   "source": [
    "mylist[0]"
   ]
  },
  {
   "cell_type": "markdown",
   "id": "00580cbb",
   "metadata": {},
   "source": [
    "We can get multiple elements from the list using _slice_ notation. In general, we write a slice `a:b:i`, where `a` is the starting index, `b` is the ending index, and `i` is the interval. Note that `b` is exclusive, meaning that Python will select up to _but not including_ index `b`. Note that it is not necessary to specify all values `a`, `b`, and `i` when writing a slice. If not included, `a` defaults to 0, `b` defaults to `N` (the length of the list), and `i` defaults to 1. Some examples:"
   ]
  },
  {
   "cell_type": "code",
   "execution_count": null,
   "id": "9a2c9410",
   "metadata": {},
   "outputs": [],
   "source": [
    "mylist2 = [0, 1, 2, 3, 4, 5, 6, 7, 8, 9]"
   ]
  },
  {
   "cell_type": "code",
   "execution_count": null,
   "id": "4897cab2",
   "metadata": {},
   "outputs": [],
   "source": [
    "print(mylist2[0:3])"
   ]
  },
  {
   "cell_type": "code",
   "execution_count": null,
   "id": "43908fbd",
   "metadata": {},
   "outputs": [],
   "source": [
    "print(mylist2[1:4])"
   ]
  },
  {
   "cell_type": "code",
   "execution_count": null,
   "id": "26f79a56",
   "metadata": {},
   "outputs": [],
   "source": [
    "print(mylist2[0:6:2])"
   ]
  },
  {
   "cell_type": "code",
   "execution_count": null,
   "id": "f646d100",
   "metadata": {},
   "outputs": [],
   "source": [
    "print(mylist2[:])"
   ]
  },
  {
   "cell_type": "code",
   "execution_count": null,
   "id": "4e58e2be",
   "metadata": {},
   "outputs": [],
   "source": [
    "print(mylist2[::3])"
   ]
  },
  {
   "cell_type": "code",
   "execution_count": null,
   "id": "ea060441",
   "metadata": {},
   "outputs": [],
   "source": [
    "print(mylist2[0:-1])"
   ]
  },
  {
   "cell_type": "markdown",
   "id": "c1c9c967",
   "metadata": {},
   "source": [
    "Note that in this last example, I have used a negative number as an index. This means \"count backward this many elements\".\n",
    "\n",
    "If we try to fetch an element at an index that is out of bounds, Python will notice and complain:"
   ]
  },
  {
   "cell_type": "code",
   "execution_count": null,
   "id": "3bb22595",
   "metadata": {},
   "outputs": [],
   "source": [
    "print(mylist2[15])"
   ]
  },
  {
   "cell_type": "markdown",
   "id": "b57bd88e",
   "metadata": {},
   "source": [
    "Lists have several useful _functions_ and _methods_ associated with them. Functions are invoked using parethesis `( )` after the name of the function, and can take zero or more arguments. Methods are functions that are defined on objects, and are invoked using the `.` syntax following the variable name. For instance, the `len` function will tell us the length of a list:"
   ]
  },
  {
   "cell_type": "code",
   "execution_count": null,
   "id": "53fc8f81",
   "metadata": {},
   "outputs": [],
   "source": [
    "len(mylist2)"
   ]
  },
  {
   "cell_type": "markdown",
   "id": "66ccc719",
   "metadata": {},
   "source": [
    "We can add an element to the end of a list using the `append` method, where we pass as an argument the object we'd like to add:"
   ]
  },
  {
   "cell_type": "code",
   "execution_count": null,
   "id": "e5c053a2",
   "metadata": {},
   "outputs": [],
   "source": [
    "print(mylist2)\n",
    "mylist2.append(10)\n",
    "print(mylist2)"
   ]
  },
  {
   "cell_type": "code",
   "execution_count": null,
   "id": "704505ea",
   "metadata": {},
   "outputs": [],
   "source": [
    "del mylist2[3]\n",
    "print(mylist2)"
   ]
  },
  {
   "cell_type": "code",
   "execution_count": null,
   "id": "2a8eba66",
   "metadata": {},
   "outputs": [],
   "source": [
    "myval = mylist2.pop(1)\n",
    "print(mylist2)\n",
    "print(myval)"
   ]
  },
  {
   "cell_type": "markdown",
   "id": "2b92da0e",
   "metadata": {},
   "source": [
    "I can also \"add\" two lists together, where I combine them into a single list. We can use the `+` operator to do this:"
   ]
  },
  {
   "cell_type": "code",
   "execution_count": null,
   "id": "eddc0526",
   "metadata": {},
   "outputs": [],
   "source": [
    "list1 = [0, 1, 2]\n",
    "list2 = [3, 4, 5]\n",
    "big_list = list1 + list2\n",
    "print(big_list)"
   ]
  },
  {
   "cell_type": "markdown",
   "id": "4ff9db09",
   "metadata": {},
   "source": [
    "What happens if we try to subtract?"
   ]
  },
  {
   "cell_type": "code",
   "execution_count": null,
   "id": "49f0de46",
   "metadata": {},
   "outputs": [],
   "source": [
    "small_list = list1 - list2"
   ]
  },
  {
   "cell_type": "markdown",
   "id": "e42c1e08",
   "metadata": {},
   "source": [
    "# Tuples"
   ]
  },
  {
   "cell_type": "markdown",
   "id": "26de63cf",
   "metadata": {},
   "source": [
    "Tuples are like lists, in that they are a collection of objects, but they are _immutable_ once they have been defined. Although we can index tuples like we can for lists, we cannot change them once we have made them. We denote tuples by using parenthesis `( )`."
   ]
  },
  {
   "cell_type": "code",
   "execution_count": null,
   "id": "0e145c4c",
   "metadata": {},
   "outputs": [],
   "source": [
    "mytuple = (1, 2.2, \"hello\", None)\n",
    "print(mytuple[1])"
   ]
  },
  {
   "cell_type": "markdown",
   "id": "16c14d54",
   "metadata": {},
   "source": [
    "Note that the `len` function still works:"
   ]
  },
  {
   "cell_type": "code",
   "execution_count": null,
   "id": "f4da557c",
   "metadata": {},
   "outputs": [],
   "source": [
    "len(mytuple)"
   ]
  },
  {
   "cell_type": "markdown",
   "id": "8a0ba0d9",
   "metadata": {},
   "source": [
    "But the `.append` method is not defined:"
   ]
  },
  {
   "cell_type": "code",
   "execution_count": null,
   "id": "6975c9b2",
   "metadata": {},
   "outputs": [],
   "source": [
    "mytuple.append(4)"
   ]
  },
  {
   "cell_type": "markdown",
   "id": "c767804b",
   "metadata": {},
   "source": [
    "However, we _can_ add tuples together to get a new tuple:"
   ]
  },
  {
   "cell_type": "code",
   "execution_count": null,
   "id": "e04dbcf3",
   "metadata": {},
   "outputs": [],
   "source": [
    "tuple1 = (0, 1)\n",
    "tuple2 = (\"hello\", None)\n",
    "tuple3 = tuple1 + tuple2\n",
    "print(tuple3)"
   ]
  },
  {
   "cell_type": "markdown",
   "id": "19d09bee",
   "metadata": {},
   "source": [
    "## Dictionaries\n",
    "\n",
    "Dictionaries are one of the most common collections in Python. A dictionary consists of key-value pairs, where we use the key as an index to retrieve the associated value. The keys for dictionaries must be _immutable_, but the values can be anything (even other dictionaries!). We denote a dictionary using curly braces `{ }`, and `key: value` pairs. For example:"
   ]
  },
  {
   "cell_type": "code",
   "execution_count": null,
   "id": "dbdc39c3",
   "metadata": {},
   "outputs": [],
   "source": [
    "mydict = {\"key1\": \"hello\", \"key2\": \"there\"}"
   ]
  },
  {
   "cell_type": "markdown",
   "id": "e4311dab",
   "metadata": {},
   "source": [
    "We index a dictionary by using `dictionary_name[key]` syntax. For example:"
   ]
  },
  {
   "cell_type": "code",
   "execution_count": null,
   "id": "99d70c3e",
   "metadata": {},
   "outputs": [],
   "source": [
    "print(mydict[\"key1\"])\n",
    "print(mydict[\"key2\"])"
   ]
  },
  {
   "cell_type": "markdown",
   "id": "0a5c9af4",
   "metadata": {},
   "source": [
    "If we try to use a key that does not exist on the dictionary, Python will complain:"
   ]
  },
  {
   "cell_type": "code",
   "execution_count": null,
   "id": "c0a91f19",
   "metadata": {},
   "outputs": [],
   "source": [
    "print(mydict[\"key3\"])"
   ]
  },
  {
   "cell_type": "markdown",
   "id": "99e789e8",
   "metadata": {},
   "source": [
    "If we assign a value to a dictionary key that already exists, Python will update the value in the dictionary:"
   ]
  },
  {
   "cell_type": "code",
   "execution_count": null,
   "id": "49caab56",
   "metadata": {},
   "outputs": [],
   "source": [
    "mydict[\"key2\"] = \"world\"\n",
    "print(mydict[\"key2\"])"
   ]
  },
  {
   "cell_type": "markdown",
   "id": "240e5fe7",
   "metadata": {},
   "source": [
    "This means that to store multiple values in a dictionary, we must use unique keys.\n",
    "\n",
    "However, note that the `type` of the key matters! The key `1` is different from the key `\"1\"`:"
   ]
  },
  {
   "cell_type": "code",
   "execution_count": null,
   "id": "92f4fab4",
   "metadata": {},
   "outputs": [],
   "source": [
    "mydict = {\"1\": \"the string 1\", 1: \"the int 1\"}\n",
    "print(mydict[1])\n",
    "print(mydict[\"1\"])"
   ]
  },
  {
   "cell_type": "code",
   "execution_count": null,
   "id": "9ef21bc1",
   "metadata": {},
   "outputs": [],
   "source": [
    "mydict = {\"mylist\": [0, 1, \"hi\", True]}\n",
    "print(mydict[\"mylist\"])"
   ]
  },
  {
   "cell_type": "code",
   "execution_count": null,
   "id": "20805de5",
   "metadata": {},
   "outputs": [],
   "source": [
    "print(mydict.keys())"
   ]
  },
  {
   "cell_type": "code",
   "execution_count": null,
   "id": "c5e6a1b0",
   "metadata": {},
   "outputs": [],
   "source": [
    "mydict[\"mytuple\"] = (1, 2)\n",
    "print(mydict.keys())"
   ]
  },
  {
   "cell_type": "markdown",
   "id": "53cbd158",
   "metadata": {},
   "source": [
    "# For Loops\n",
    "\n",
    "Like most languages, Python supports iterating through a block of code for a certain number of iterations. For example:"
   ]
  },
  {
   "cell_type": "code",
   "execution_count": null,
   "id": "3b4753ad",
   "metadata": {},
   "outputs": [],
   "source": [
    "for i in range(10):\n",
    "    print(\"body of loop: \", i)\n",
    "    \n",
    "print(\"outside of loop: \", i)"
   ]
  },
  {
   "cell_type": "markdown",
   "id": "c36cca94",
   "metadata": {},
   "source": [
    "Unlike other languages, Python does not use braces to define the body of the loop. Instead, white space is meaningful! The body of the loop is indented with respect to the definition (typically 4 spaces), and the loop is ended when the code has been dedented. Python uses a similar convention when defining functions, so this will become very familiar.\n",
    "\n",
    "We can also iterate through objects in collections. We use a similar syntax:"
   ]
  },
  {
   "cell_type": "code",
   "execution_count": null,
   "id": "1b5fefa5",
   "metadata": {},
   "outputs": [],
   "source": [
    "for element in mylist:\n",
    "    print(element)"
   ]
  },
  {
   "cell_type": "markdown",
   "id": "d6e305c7",
   "metadata": {},
   "source": [
    "We can also use the handy `enumerate` function if we want the index of the elements, as well as the elements themselves:"
   ]
  },
  {
   "cell_type": "code",
   "execution_count": null,
   "id": "9b928b9a",
   "metadata": {},
   "outputs": [],
   "source": [
    "for i, element in enumerate(mylist):\n",
    "    if i > 2:\n",
    "        break\n",
    "    print(\"index: \", i)\n",
    "    print(\"element: \", element)"
   ]
  },
  {
   "cell_type": "markdown",
   "id": "a5818766",
   "metadata": {},
   "source": [
    "We can also build `while` loops that will continue to iterate _while_ a particular condition is true, which has a similar construction to `for` loops. Also good to know: the `continue` statement will skip the rest of the loop and move on to the next iteration, and `break` will stop executing the loop entirely."
   ]
  },
  {
   "cell_type": "markdown",
   "id": "8df12eac",
   "metadata": {},
   "source": [
    "# If Statements\n",
    "\n",
    "One of the essential elements of control flow, `if` statements will execute a block of code only if the conditional statement is true. Like `for` loops, the code is indented to indicate the body of the `if` statement. We can also have an `else` clause, which will execute if the `if` statement is not true. An example:"
   ]
  },
  {
   "cell_type": "code",
   "execution_count": null,
   "id": "ceeab98d",
   "metadata": {},
   "outputs": [],
   "source": [
    "myint = 4\n",
    "\n",
    "if myint % 2 == 0:\n",
    "    print(\"even\")\n",
    "else:\n",
    "    print(\"odd\")"
   ]
  },
  {
   "cell_type": "markdown",
   "id": "90dd916f",
   "metadata": {},
   "source": [
    "We can have branching `if` statements as well. We indicate this structure using the `elif` keyword:"
   ]
  },
  {
   "cell_type": "code",
   "execution_count": null,
   "id": "6618cc84",
   "metadata": {},
   "outputs": [],
   "source": [
    "myint = -3\n",
    "\n",
    "if myint > 0:\n",
    "    print(\"positive\")\n",
    "elif myint < 0:\n",
    "    print(\"negative\")\n",
    "else:\n",
    "    print(\"zero\")"
   ]
  },
  {
   "cell_type": "markdown",
   "id": "27908539",
   "metadata": {},
   "source": [
    "Be careful of type handling! When comparing objects with different types, the comparison operators will try to coerce types to be similar if the operation is defined for these objects. For example, strings and numbers are treated as not being equal, even if they would be after casting:"
   ]
  },
  {
   "cell_type": "code",
   "execution_count": null,
   "id": "837104cf",
   "metadata": {},
   "outputs": [],
   "source": [
    "if 1 == 1.0:\n",
    "    print(\"equal\")"
   ]
  },
  {
   "cell_type": "code",
   "execution_count": null,
   "id": "da451d61",
   "metadata": {},
   "outputs": [],
   "source": [
    "if 1 == 1.00001:\n",
    "    print(\"equal\")"
   ]
  },
  {
   "cell_type": "code",
   "execution_count": null,
   "id": "3266e69d",
   "metadata": {},
   "outputs": [],
   "source": [
    "myint = \"3\"\n",
    "\n",
    "if myint == 3:\n",
    "    print(\"three\")\n",
    "else:\n",
    "    print(\"not three\")\n",
    "    \n",
    "if int(myint) == 3:\n",
    "    print(\"three\")\n",
    "else:\n",
    "    print(\"not three\")"
   ]
  },
  {
   "cell_type": "markdown",
   "id": "3fe744f5",
   "metadata": {},
   "source": [
    "# Importing Libraries\n",
    "\n",
    "Libraries, or modules, are collections of objects, functions, and methods that extend the functionality of the base Python language. Some of these libraries ship with the Python runtime itself. These compose the \"standard library\" of Python, and are always available. Some examples are the `math` library, which allows for access to more advanced mathematical functions, the `os` library, which interacts with the operating system, and the `json` library, which can read and write JSON data. There are many other libraries included in the standard library, and there is plenty of documentation online about what they are and what functions they contain.\n",
    "\n",
    "To use a library, we use the `import` statement. This defines a new namespace in our runtime, which allows us to access these functions in our own code. For example, let's import the math library and print the value of $\\pi$:"
   ]
  },
  {
   "cell_type": "code",
   "execution_count": null,
   "id": "69d39933",
   "metadata": {},
   "outputs": [],
   "source": [
    "import math\n",
    "print(math.pi)"
   ]
  },
  {
   "cell_type": "markdown",
   "id": "304b274e",
   "metadata": {},
   "source": [
    "We can also use trigonometric functions:"
   ]
  },
  {
   "cell_type": "code",
   "execution_count": null,
   "id": "0f776995",
   "metadata": {},
   "outputs": [],
   "source": [
    "print(math.sin(math.pi / 4))"
   ]
  },
  {
   "cell_type": "markdown",
   "id": "1e9f3f0a",
   "metadata": {},
   "source": [
    "We can calculate square roots:"
   ]
  },
  {
   "cell_type": "code",
   "execution_count": null,
   "id": "06f17e29",
   "metadata": {},
   "outputs": [],
   "source": [
    "1 / math.sqrt(2)"
   ]
  },
  {
   "cell_type": "markdown",
   "id": "29b02d47",
   "metadata": {},
   "source": [
    "We can even do more complicated math:"
   ]
  },
  {
   "cell_type": "code",
   "execution_count": null,
   "id": "5ac8e3a9",
   "metadata": {},
   "outputs": [],
   "source": [
    "math.gamma(-3.2)"
   ]
  },
  {
   "cell_type": "markdown",
   "id": "32ed876b",
   "metadata": {},
   "source": [
    "# Beyond the Standard (Python) Model"
   ]
  },
  {
   "cell_type": "markdown",
   "id": "04e2b669",
   "metadata": {},
   "source": [
    "There are a lot (a LOT) of Python libraries that do lots of useful things. Here we're going to talk about just two of them: `numpy` and `matplotlib`. `numpy` is a standard library for doing numerical calculations in Python, and `matplotlib` is great for making plots. Let's import them:"
   ]
  },
  {
   "cell_type": "code",
   "execution_count": null,
   "id": "89958434",
   "metadata": {},
   "outputs": [],
   "source": [
    "import numpy as np\n",
    "import matplotlib.pyplot as plt"
   ]
  },
  {
   "cell_type": "markdown",
   "id": "20323d11",
   "metadata": {},
   "source": [
    "Here we have used _aliases_ to import these packages. This means that to access numpy functions, we'll use `np.` instead of `numpy.`. These aliases are fairly standard in the community, and it makes typing them a lot easier.\n",
    "\n",
    "The fundamental datatype of numpy is the $N$-dimensional array, or `ndarray` for  short. Unlike Python lists, the elements of arrays must all have the same type. The benefit is that this makes them very memory efficient, and operations on them are performed very quickly.\n",
    "\n",
    "We can cast a Python list to a numpy array using the `np.array` function:"
   ]
  },
  {
   "cell_type": "code",
   "execution_count": null,
   "id": "a798f355",
   "metadata": {},
   "outputs": [],
   "source": [
    "mylist = [0, 1, 2, 3]\n",
    "myarray = np.array(mylist, dtype=np.int32)\n",
    "print(myarray)"
   ]
  },
  {
   "cell_type": "markdown",
   "id": "173c12aa",
   "metadata": {},
   "source": [
    "Numpy arrays are self-describing by using methods and attributes, and have a datatype (`dtype`) associated with them:"
   ]
  },
  {
   "cell_type": "code",
   "execution_count": null,
   "id": "bea70244",
   "metadata": {},
   "outputs": [],
   "source": [
    "print(myarray.dtype)"
   ]
  },
  {
   "cell_type": "markdown",
   "id": "8bc718df",
   "metadata": {},
   "source": [
    "They also have attributes indicated their shape (`.shape`), and the total number of elements they contain (`.size`):"
   ]
  },
  {
   "cell_type": "code",
   "execution_count": null,
   "id": "47c86b97",
   "metadata": {},
   "outputs": [],
   "source": [
    "print(myarray.shape)\n",
    "print(myarray.size)"
   ]
  },
  {
   "cell_type": "markdown",
   "id": "b7a69bfe",
   "metadata": {},
   "source": [
    "We can also index individual elements, like we do with list. We use the same list indexing and slicing syntax:"
   ]
  },
  {
   "cell_type": "code",
   "execution_count": null,
   "id": "eb19b1e2",
   "metadata": {},
   "outputs": [],
   "source": [
    "print(myarray[:2])\n",
    "print(myarray[1:3])\n",
    "print(myarray[::2])"
   ]
  },
  {
   "cell_type": "markdown",
   "id": "f845bf26",
   "metadata": {},
   "source": [
    "Instead of casting Python lists to arrays (as we did above), we can also create `empty` arrays, which are allocated but not initialized. We could also ask for arrays of all `zeros` or `ones`. To do this, we specify the shape of the array, and optionally a datatype:"
   ]
  },
  {
   "cell_type": "code",
   "execution_count": null,
   "id": "06a3f8fd",
   "metadata": {},
   "outputs": [],
   "source": [
    "empty_array = np.empty((2, 4))\n",
    "zero_array = np.zeros((2, 4), dtype=np.float32)\n",
    "one_array = np.ones((2, 4), dtype=np.int64)\n",
    "\n",
    "print(empty_array)\n",
    "print(zero_array)\n",
    "print(one_array)"
   ]
  },
  {
   "cell_type": "markdown",
   "id": "6a3764a1",
   "metadata": {},
   "source": [
    "Note that Python uses row-major (also sometimes called \"C-style\") indexing. This means that for an array that has $N$ rows and $M$ columns, we specify the shape with a tuple `(N, M)`.\n",
    "\n",
    "Another handy operation for initializing arrays is to use the `linspace` function. This creates an array where elements are linearly spaced between a starting and ending value, where we specify the number of points to use. For example, to specify we want 1,000 points on the interval between 0 and $2\\pi$, we can write:"
   ]
  },
  {
   "cell_type": "code",
   "execution_count": null,
   "id": "8ae8cda5",
   "metadata": {},
   "outputs": [],
   "source": [
    "xvals = np.linspace(0, 2 * np.pi, num=1000)\n",
    "print(xvals)"
   ]
  },
  {
   "cell_type": "markdown",
   "id": "a98ec7bc",
   "metadata": {},
   "source": [
    "Like the `math` module, `numpy` knows how to do math operations. We can do things like add or multiply two arrays, as long as their shapes are compatible:"
   ]
  },
  {
   "cell_type": "code",
   "execution_count": null,
   "id": "87b857ce",
   "metadata": {},
   "outputs": [],
   "source": [
    "a = np.array([1, 2, 3])\n",
    "b = np.array([4, 5, 6])\n",
    "print(3 + a)\n",
    "print(b * 2)\n",
    "print(a + b)\n",
    "print(a * b)"
   ]
  },
  {
   "cell_type": "markdown",
   "id": "5b9a88d0",
   "metadata": {},
   "source": [
    "We can provide arrays as arguments, and `numpy` will _broadcast_ the operation to every element in the array. For those familiar with MatLab, this is like using the `.` operator. Unlike MatLab, element-wise operations is the default in `numpy`, so multiplying two arrays will default to multiplying the elements, as shown above (instead of matrix multiplication).\n",
    "\n",
    "We can also apply mathematical operations to arrays:"
   ]
  },
  {
   "cell_type": "code",
   "execution_count": null,
   "id": "1f554c6a",
   "metadata": {},
   "outputs": [],
   "source": [
    "yvals = np.sin(xvals)\n",
    "print(yvals)"
   ]
  },
  {
   "cell_type": "markdown",
   "id": "f03800dd",
   "metadata": {},
   "source": [
    "If we want to visualize things, we can use `matplotlib` to plot different things. The simplest function is `plot`, which takes $x$-values and $y$-values:"
   ]
  },
  {
   "cell_type": "code",
   "execution_count": null,
   "id": "ca1d8088",
   "metadata": {},
   "outputs": [],
   "source": [
    "%matplotlib inline\n",
    "\n",
    "plt.plot(xvals, yvals)"
   ]
  },
  {
   "cell_type": "markdown",
   "id": "5dfcfc18",
   "metadata": {},
   "source": [
    "Ta-da! Easy as that.\n",
    "\n",
    "The `%matplotlib inline` line above is knows as \"notebook magic\", and tells the kernel how to handle things like images. It's actually usually called at the top of a notebook, but I put it here to avoid confusion.\n",
    "\n",
    "There's actually two different ways interact with `matplotlib` figures. One is the above way, where we used `plt.plot`. Under the hood, `matplotlib` instantiated objects as needed to make the plot happen. An alternative way (which is generally more precise, but time-consuming) is to create `figure` and `axes` objects ourselves, and call the plotting functions on those. For instance:"
   ]
  },
  {
   "cell_type": "code",
   "execution_count": null,
   "id": "acdf51b1",
   "metadata": {},
   "outputs": [],
   "source": [
    "fig = plt.figure()\n",
    "ax = plt.gca()\n",
    "ax.plot(xvals, 2 * yvals)"
   ]
  },
  {
   "cell_type": "markdown",
   "id": "8449eff5",
   "metadata": {},
   "source": [
    "Managing figures and axes ourselves is also good practice, to help ensure that things don't get mixed up in a notebook environment.\n",
    "\n",
    "It's generally good practice to add labels to our axes, so the reader knows what we're plotting. Here there isn't too much in particular, but let's get in the habit anyway. We can add some labels by calling the appropriate methods on the `Axes` objects:"
   ]
  },
  {
   "cell_type": "code",
   "execution_count": null,
   "id": "73f9da35",
   "metadata": {},
   "outputs": [],
   "source": [
    "fig = plt.figure()\n",
    "ax = plt.gca()\n",
    "ax.plot(xvals, yvals)\n",
    "ax.set_xlabel(\"x\")\n",
    "ax.set_ylabel(\"sin(x)\")"
   ]
  },
  {
   "cell_type": "markdown",
   "id": "758d6642",
   "metadata": {},
   "source": [
    "We can also make our labels fancy using LaTeX. To do this, we put the parts of our labels we want to be typset in between `$` characters. It often also requires passing a \"raw string\" to Python, where we preface a string with the `r` character (and no space):"
   ]
  },
  {
   "cell_type": "code",
   "execution_count": null,
   "id": "bf3f7b96",
   "metadata": {},
   "outputs": [],
   "source": [
    "fig = plt.figure()\n",
    "ax = plt.gca()\n",
    "ax.plot(xvals, xvals**2)\n",
    "ax.set_xlabel(r\"$x$\")\n",
    "ax.set_ylabel(r\"$x^2$\")"
   ]
  },
  {
   "cell_type": "code",
   "execution_count": null,
   "id": "f2feab8d",
   "metadata": {},
   "outputs": [],
   "source": []
  }
 ],
 "metadata": {
  "kernelspec": {
   "display_name": "Python 3 (ipykernel)",
   "language": "python",
   "name": "python3"
  },
  "language_info": {
   "codemirror_mode": {
    "name": "ipython",
    "version": 3
   },
   "file_extension": ".py",
   "mimetype": "text/x-python",
   "name": "python",
   "nbconvert_exporter": "python",
   "pygments_lexer": "ipython3",
   "version": "3.10.6"
  }
 },
 "nbformat": 4,
 "nbformat_minor": 5
}
