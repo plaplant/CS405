{
 "cells": [
  {
   "cell_type": "markdown",
   "id": "a3b898b3-aed8-4dcb-9428-dfd0e1b4ad6b",
   "metadata": {},
   "source": [
    "# Markdown\n",
    "\n",
    "This is a \"markdown\" cell. You can write text in here, and then have it automatically rendered in Jupyter. You can have formatting like _italics_ or **bold** font. You can also write math with $\\LaTeX$:\n",
    "$$\n",
    "e^{i \\theta} = \\cos \\theta + i \\sin \\theta.\n",
    "$$\n",
    "You can also write formatted code, either `inline` or in a codeblock, as below:\n",
    "```python\n",
    ">>> print(\"Hello, world!\")\n",
    "Hello, world!\n",
    "```\n",
    "To \"execute\" a cell, you can click the \"Play\" button in the top toolbar, or hit `Shift+Enter`.\n",
    "\n",
    "# Basics"
   ]
  },
  {
   "cell_type": "code",
   "execution_count": null,
   "id": "72e687ff-5363-427a-b834-086bd8b765c9",
   "metadata": {},
   "outputs": [],
   "source": [
    "# This is a \"code cell\", and will be executed as Python code.\n",
    "# These are in-line comments, which are denoted by the `#` symbol.\n",
    "# It's also possible to write multi-line comments with triple quotes `'''` or `\"\"\"`,\n",
    "# but these are generally reserved to write things called \"docstrings\" (which we'll\n",
    "# talk about more later)"
   ]
  },
  {
   "cell_type": "code",
   "execution_count": null,
   "id": "8be087a7-3af7-460f-85ca-d163b48cefba",
   "metadata": {},
   "outputs": [],
   "source": [
    "# `print` is a built-in funciton that will print something to the screen.\n",
    "# Here is \"Hello, world!\":\n",
    "print(\"Hello, world!\")"
   ]
  },
  {
   "cell_type": "code",
   "execution_count": null,
   "id": "4231672a-ed13-42ea-9d9d-3be27f34f805",
   "metadata": {},
   "outputs": [],
   "source": [
    "# We can assign values to variables using the assignment operator `=`.\n",
    "# We write the name of the variable, then the value we would like to be assigned to it.\n",
    "# Unlike C++, we don't need to specify the variable type before we use it. It's the Wild West!\n",
    "x = 3.4\n",
    "y = 8\n",
    "z = x + y\n",
    "print(z)  # we can print variable names\n",
    "print(f\"{z}\")  # this is an \"f-print\" statement, which will automatically use the variable name\n"
   ]
  },
  {
   "cell_type": "code",
   "execution_count": null,
   "id": "0e491787-7eed-4177-a6d3-1a91420a0d13",
   "metadata": {},
   "outputs": [],
   "source": [
    "# `print` can take multiple arguments\n",
    "print(x, y, z)\n",
    "print(\"x:\", x, \"y: \", y, \"z: \", z)\n",
    "print(f\"x: {x} y: {y} z: {z}\")"
   ]
  },
  {
   "cell_type": "markdown",
   "id": "72f32415-d6c0-4641-ac72-217434d7e9d2",
   "metadata": {},
   "source": [
    "# Variable Types\n",
    "Python has a few different built-in variable types. Let's look at a few of them:"
   ]
  },
  {
   "cell_type": "code",
   "execution_count": null,
   "id": "d1aee86d-a4d8-4514-9876-af8c4e58472a",
   "metadata": {},
   "outputs": [],
   "source": [
    "# integer\n",
    "x = 123\n",
    "print(type(x))"
   ]
  },
  {
   "cell_type": "code",
   "execution_count": null,
   "id": "8849cc96-783e-405d-bb16-252cf5b2623f",
   "metadata": {},
   "outputs": [],
   "source": [
    "print(10 ** 100)  # exponentiation: 10 to the 100th power"
   ]
  },
  {
   "cell_type": "code",
   "execution_count": null,
   "id": "bda2da58-8abe-4afe-8cdf-89547da302af",
   "metadata": {},
   "outputs": [],
   "source": [
    "# floating point\n",
    "y = 1.23\n",
    "print(type(y))"
   ]
  },
  {
   "cell_type": "code",
   "execution_count": null,
   "id": "78a7d106-905a-49eb-ba71-df1a661cfd45",
   "metadata": {},
   "outputs": [],
   "source": [
    "# complex number\n",
    "z = 3.2 + 1.3j\n",
    "print(type(z))"
   ]
  },
  {
   "cell_type": "code",
   "execution_count": null,
   "id": "3701e9a1-ea8c-444d-811d-d38142ebbbe3",
   "metadata": {},
   "outputs": [],
   "source": [
    "# real and imaginary parts are separately floats\n",
    "print(type(z.real), type(z.imag))"
   ]
  },
  {
   "cell_type": "code",
   "execution_count": null,
   "id": "6881599d-fdab-43e4-aa07-bd5aef22adaf",
   "metadata": {},
   "outputs": [],
   "source": [
    "# \"normal\" division returns a float, even with integer arguments\n",
    "print(5 / 2)\n",
    "print(type(5 / 2))"
   ]
  },
  {
   "cell_type": "code",
   "execution_count": null,
   "id": "a6f3c1fc-528b-4416-8c22-1a84fd8fcdb4",
   "metadata": {},
   "outputs": [],
   "source": [
    "# but! there's a special `//` operator that does integer floor division\n",
    "print(5 // 2)\n",
    "print(type(5 // 2))"
   ]
  },
  {
   "cell_type": "code",
   "execution_count": null,
   "id": "23d6c041-5dec-47dc-9026-a294f24bc934",
   "metadata": {},
   "outputs": [],
   "source": [
    "# we also have string data\n",
    "mystring1 = \"Hello,\"\n",
    "mystring2 = 'world!' # single and double quotes are interchangable\n",
    "print(mystring1, mystring2)"
   ]
  },
  {
   "cell_type": "code",
   "execution_count": null,
   "id": "3500bc82-f08f-4516-a1ee-f102103dbd8e",
   "metadata": {},
   "outputs": [],
   "source": [
    "# we have boolean variables\n",
    "veritas = True\n",
    "null = False\n",
    "print(type(veritas))"
   ]
  },
  {
   "cell_type": "code",
   "execution_count": null,
   "id": "9f04d1d6-41f2-45bc-bfb4-bf370be81f7c",
   "metadata": {},
   "outputs": [],
   "source": [
    "# we can assign the output of comparison operators to boolean variables\n",
    "bigger = 5 > 3\n",
    "print(bigger)"
   ]
  },
  {
   "cell_type": "markdown",
   "id": "b4771f83-8965-4690-9ab5-23193f9b54f4",
   "metadata": {},
   "source": [
    "# Casting"
   ]
  },
  {
   "cell_type": "code",
   "execution_count": null,
   "id": "5e082e62-c6f8-4483-a88a-dc340e92c389",
   "metadata": {},
   "outputs": [],
   "source": [
    "# just like in C++, we can \"cast\" variables of one type to another\n",
    "# Python does it using built-in functions\n",
    "myfloat = float(3)\n",
    "print(myfloat)\n",
    "print(type(myfloat))"
   ]
  },
  {
   "cell_type": "code",
   "execution_count": null,
   "id": "3b70f108-ce3c-4596-b632-766e476e8a46",
   "metadata": {},
   "outputs": [],
   "source": [
    "# we can go from float -> int as well\n",
    "myint = int(3.4)\n",
    "print(myint)\n",
    "print(type(myint))"
   ]
  },
  {
   "cell_type": "code",
   "execution_count": null,
   "id": "b4ff0818-ff40-45e5-94c7-42ea7473cf5c",
   "metadata": {},
   "outputs": [],
   "source": [
    "# we can also convert strings (if they're formatted right!)\n",
    "myint = int(\"3\")\n",
    "print(myint)"
   ]
  },
  {
   "cell_type": "code",
   "execution_count": null,
   "id": "c8bedeb8-5214-4594-81ff-c61b5b9e0446",
   "metadata": {},
   "outputs": [],
   "source": [
    "# problem!\n",
    "myint = int(\"foo\")\n",
    "print(myint)"
   ]
  },
  {
   "cell_type": "code",
   "execution_count": null,
   "id": "d98f99fc-9ac8-496a-a7c2-1c95c2c7991d",
   "metadata": {},
   "outputs": [],
   "source": [
    "print(myint)"
   ]
  },
  {
   "cell_type": "markdown",
   "id": "28a4b0dc-be84-45b1-9921-e885fd687cff",
   "metadata": {},
   "source": [
    "# Collections\n",
    "Python supports a few different kinds of \"collections\" of objects. Let's start with a few.\n",
    "\n",
    "## Tuples"
   ]
  },
  {
   "cell_type": "code",
   "execution_count": null,
   "id": "b2dc6407-266b-4964-b466-0a27c0804009",
   "metadata": {},
   "outputs": [],
   "source": [
    "a = (1, 2, 3)\n",
    "print(a)"
   ]
  },
  {
   "cell_type": "code",
   "execution_count": null,
   "id": "536f7d64-3144-490a-aca5-263ccd42324d",
   "metadata": {},
   "outputs": [],
   "source": [
    "b = (1, 5.2, \"hello\")\n",
    "print(b)"
   ]
  },
  {
   "cell_type": "markdown",
   "id": "f5ffd13d-a4da-4eba-8d99-adce06cb991e",
   "metadata": {},
   "source": [
    "We can _index_ into a collection using the `[]` notation."
   ]
  },
  {
   "cell_type": "code",
   "execution_count": null,
   "id": "d64c666b-d513-4b38-a410-b656d6c56fd2",
   "metadata": {},
   "outputs": [],
   "source": [
    "print(a[1])"
   ]
  },
  {
   "cell_type": "code",
   "execution_count": null,
   "id": "2302c51a-2a0e-4c23-a8fb-af5e8e82aff4",
   "metadata": {},
   "outputs": [],
   "source": [
    "example_tuple = tuple(range(10))  # Make a tuple containing numbers from zero to nine\n",
    "example_slice = example_tuple[1:5]  # Get elements 1 through 5, exclusive\n",
    "evens = example_tuple[::2]  # Start at element 0 and retrieve every other element\n",
    "odds = example_tuple[1::2]  # Start at element 1 and retrieve every other element\n",
    "reverse = example_tuple[::-1]  # Retrieve the elements in reverse order\n",
    "last_few = example_tuple[-4:]  # Retrieve the last four elements of the tuple\n",
    "print(\"We start with: \", example_tuple)\n",
    "print(\"The first slice gives: \", example_slice)\n",
    "print(\"The second slice gives the even numbers: \", evens)\n",
    "print(\"The third slice gives the odd numbers: \", odds)\n",
    "print(\"The fourth slice gives the numbers in reverse: \", reverse)\n",
    "print(\"The fifth slice gives the last four numbers: \", last_few)"
   ]
  },
  {
   "cell_type": "code",
   "execution_count": null,
   "id": "6eb7ec10-eedb-4d5c-83db-7bb04319af06",
   "metadata": {},
   "outputs": [],
   "source": [
    "print(example_tuple[20])"
   ]
  },
  {
   "cell_type": "code",
   "execution_count": null,
   "id": "7b8b4959-961e-4c89-b23a-a052ddc01649",
   "metadata": {},
   "outputs": [],
   "source": [
    "# Try to change an element of a tuple\n",
    "a = (1, 2, 3)\n",
    "a[1] = 5"
   ]
  },
  {
   "cell_type": "markdown",
   "id": "32bbfde7-f13a-4c5e-a624-7f2f4f76987e",
   "metadata": {},
   "source": [
    "## Lists"
   ]
  },
  {
   "cell_type": "code",
   "execution_count": null,
   "id": "e1556985-1fb4-4b35-b989-89d064d4070b",
   "metadata": {},
   "outputs": [],
   "source": [
    "example_list = [1, 2, 3]\n",
    "example_list[1] = \"banana\"\n",
    "print(example_list)"
   ]
  },
  {
   "cell_type": "code",
   "execution_count": null,
   "id": "a171cba7-5600-4ffc-a0a5-011ccd2d5e2f",
   "metadata": {},
   "outputs": [],
   "source": [
    "list2 = example_list + [4]\n",
    "print(list2)"
   ]
  },
  {
   "cell_type": "code",
   "execution_count": null,
   "id": "8c5d72c2-db9c-494d-8275-c371aef1a7be",
   "metadata": {},
   "outputs": [],
   "source": [
    "example_list.append(4)\n",
    "print(example_list)"
   ]
  },
  {
   "cell_type": "markdown",
   "id": "8424371a-11a6-4ca9-8b91-098d9850c047",
   "metadata": {},
   "source": [
    "## Sets"
   ]
  },
  {
   "cell_type": "code",
   "execution_count": null,
   "id": "684ce7f6-5abd-465e-8d15-6b09479f71fa",
   "metadata": {},
   "outputs": [],
   "source": [
    "list(set([3, 1, 5, 7, 2, 15]))"
   ]
  },
  {
   "cell_type": "code",
   "execution_count": null,
   "id": "2fce531b-78cd-4cab-8202-1c110b74f84d",
   "metadata": {},
   "outputs": [],
   "source": [
    "base_set = {1, 2, 3}\n",
    "new_set = base_set.union({3,4,5})  # Make a new set that is the union of base_set and {3,4,5}\n",
    "print(base_set, new_set)"
   ]
  },
  {
   "cell_type": "code",
   "execution_count": null,
   "id": "592bb4d1-d64b-4287-879a-2208d09faf67",
   "metadata": {},
   "outputs": [],
   "source": [
    "other_set = set([3,1,2])  # A list can be cast to a set\n",
    "print(other_set)  # Sets are automatically ordered if possible"
   ]
  },
  {
   "cell_type": "code",
   "execution_count": null,
   "id": "530a150a-b449-48c9-9d85-ceb1aa093806",
   "metadata": {},
   "outputs": [],
   "source": [
    "unique_chars = set(\"fad adf daf fffddaa\")  # Sets can extract the unique characters in a string\n",
    "print(unique_chars)"
   ]
  },
  {
   "cell_type": "code",
   "execution_count": null,
   "id": "61180737-ad02-4f79-a38f-e3bc49cd3a00",
   "metadata": {},
   "outputs": [],
   "source": [
    "unsorted_list = [1, 5, 3, 13, 12, 7, 2, 5]\n",
    "sorted_unique_list = list(set(unsorted_list))  # Sort and extract unique elements\n",
    "sorted_list = sorted(unsorted_list)  # Sort the list using the builtin sorted function\n",
    "print(\"The original list is: \", unsorted_list)\n",
    "print(\"The unique, sorted elements are:\", sorted_unique_list)\n",
    "print(\"The sorted elements are: \", sorted_list)"
   ]
  },
  {
   "cell_type": "code",
   "execution_count": null,
   "id": "b0d9340d-1d74-4f59-91ab-0cdc56bc77db",
   "metadata": {},
   "outputs": [],
   "source": [
    "# Try indexing into a set\n",
    "print(base_set[1])"
   ]
  },
  {
   "cell_type": "markdown",
   "id": "d084662f-2db4-47e9-ab69-ac1397aa42a2",
   "metadata": {},
   "source": [
    "## Dictionaries"
   ]
  },
  {
   "cell_type": "code",
   "execution_count": null,
   "id": "eb69f111-957d-4cb9-b963-20f80f1cc78b",
   "metadata": {},
   "outputs": [],
   "source": [
    "this_dict = dict(key1=1, key2=\"fish\")\n",
    "that_dict = {\"key2\": \"value2\", \"key1\": \"value1\"}\n",
    "print(this_dict)\n",
    "print(that_dict)"
   ]
  },
  {
   "cell_type": "code",
   "execution_count": null,
   "id": "6e41c6d2-5615-412a-8164-07d8fbe4b92c",
   "metadata": {},
   "outputs": [],
   "source": [
    "example_dict = dict(alpha=\"value1\", gamma=\"value3\", beta=\"value2\")\n",
    "value2 = example_dict['beta']  # Retrieve the value associated with the key 'beta'\n",
    "example_dict['beta'] = 0.9999  # Update the value associated with the key 'beta'\n",
    "print(\"The value associated with key 'beta' is: \", value2)\n",
    "print(\"The updated dictionary is: \", example_dict)"
   ]
  },
  {
   "cell_type": "markdown",
   "id": "67ed5d79-3a48-4a95-8f6d-6b35508c4250",
   "metadata": {},
   "source": [
    "# Conditionals"
   ]
  },
  {
   "cell_type": "code",
   "execution_count": null,
   "id": "259639d2-8cfe-4d5e-8a01-133a80307598",
   "metadata": {},
   "outputs": [],
   "source": [
    "x = 13\n",
    "if x % 2 == 0:\n",
    "    print(\"x is even\")\n",
    "else:\n",
    "    print(\"x is odd\")\n",
    "    print(\"hi\")"
   ]
  },
  {
   "cell_type": "code",
   "execution_count": null,
   "id": "387ab59d-7958-4f0e-bd30-6027308d5d66",
   "metadata": {},
   "outputs": [],
   "source": [
    "x = 9\n",
    "if x % 2 == 0:\n",
    "    print(\"x is even\")\n",
    "elif x % 3 == 0:\n",
    "    print(\"x is odd and divisible by 3\")\n",
    "else:\n",
    "    print(\"x is odd and not divisible by 3\")"
   ]
  },
  {
   "cell_type": "markdown",
   "id": "08bfbc20-4837-4bab-8de8-91274aa1d674",
   "metadata": {},
   "source": [
    "# Loops"
   ]
  },
  {
   "cell_type": "code",
   "execution_count": null,
   "id": "106bf6e0-9ea7-4d34-9362-cd5d2978cc7a",
   "metadata": {},
   "outputs": [],
   "source": [
    "counter = 0\n",
    "while counter < 5:  # As long as counter is less than 5, keep executing the code below\n",
    "    print(counter)  # Print where we're at\n",
    "    counter += 1  # Increase the counter by one"
   ]
  },
  {
   "cell_type": "code",
   "execution_count": null,
   "id": "09c16f6f-8ed1-427d-9108-c875276bf3c9",
   "metadata": {},
   "outputs": [],
   "source": [
    "# Let's write a for loop that effectively does the same thing as the previous cell\n",
    "for counter in range(5):\n",
    "    print(counter)"
   ]
  },
  {
   "cell_type": "code",
   "execution_count": null,
   "id": "0f93a15c-f238-41cf-919e-99b5f29c9e91",
   "metadata": {},
   "outputs": [],
   "source": [
    "for x in range(5):\n",
    "  y = 15\n",
    "    print(x)"
   ]
  },
  {
   "cell_type": "code",
   "execution_count": null,
   "id": "fea7e3c1-aeb9-4fbb-bcaa-2ffcdcd5e7d6",
   "metadata": {},
   "outputs": [],
   "source": [
    "for x in range(1,5):  # Loop over numbers from 1 through 4\n",
    "    if x % 2 == 0:\n",
    "        print(x, \"is even\")\n",
    "    else:\n",
    "        print(x, \"is odd\")"
   ]
  },
  {
   "cell_type": "code",
   "execution_count": null,
   "id": "1c76356c-399a-4ab0-8d3e-99e3b581c149",
   "metadata": {},
   "outputs": [],
   "source": [
    "count = 0\n",
    "while True:  # Loop forever\n",
    "    if count > 3:\n",
    "        break\n",
    "    count += 1\n",
    "print(\"We made it out!\")"
   ]
  },
  {
   "cell_type": "code",
   "execution_count": null,
   "id": "b2edfb47-cd3b-4614-b591-13470f809302",
   "metadata": {},
   "outputs": [],
   "source": [
    "test_dict = dict(a=1, b=2, c=3)\n",
    "for key, value in test_dict.items():\n",
    "    print(key, value)"
   ]
  },
  {
   "cell_type": "markdown",
   "id": "4bf6b538-4046-41e6-9858-acf7946646f6",
   "metadata": {},
   "source": [
    "# Functions"
   ]
  },
  {
   "cell_type": "code",
   "execution_count": null,
   "id": "64fd7900-af36-40da-ac4a-2f85ff73732a",
   "metadata": {},
   "outputs": [],
   "source": [
    "# First, let's define a function that takes no arguments and just prints something\n",
    "def test_function():\n",
    "    print(\"This is my simple function.\")"
   ]
  },
  {
   "cell_type": "code",
   "execution_count": null,
   "id": "0f354356-a453-4b45-b7cb-77c962afe961",
   "metadata": {},
   "outputs": [],
   "source": [
    "# We can now use the function, like so\n",
    "test_function()"
   ]
  },
  {
   "cell_type": "code",
   "execution_count": null,
   "id": "b4c3beef-a239-48cb-be31-3239a8308196",
   "metadata": {},
   "outputs": [],
   "source": [
    "# Now let's write a function that takes the square of the input number\n",
    "def square(num):\n",
    "    return num ** 2"
   ]
  },
  {
   "cell_type": "code",
   "execution_count": null,
   "id": "4a1ec228-ba34-4646-81a0-9efb92a63b94",
   "metadata": {},
   "outputs": [],
   "source": [
    "x = square(3)\n",
    "print(x)"
   ]
  },
  {
   "cell_type": "code",
   "execution_count": null,
   "id": "1c85b8ae-09af-4db9-a941-40103f00feeb",
   "metadata": {},
   "outputs": [],
   "source": [
    "# Now let's write a function that converts the input to a different type \n",
    "def convert(value, new_type=str):\n",
    "    if new_type not in (int, float, complex, bool, str):\n",
    "        print(\"New type not understood! Returning input as-is.\")\n",
    "        new_value = value\n",
    "    else:\n",
    "        new_value = new_type(value)\n",
    "    return new_value"
   ]
  },
  {
   "cell_type": "code",
   "execution_count": null,
   "id": "1e345f8a-75d7-4ec6-b1f9-9b59c53062d7",
   "metadata": {},
   "outputs": [],
   "source": [
    "# Now let's test it out\n",
    "string_num = \"5.234+2.11j\"\n",
    "complex_num = convert(string_num, new_type=complex)\n",
    "print(complex_num)"
   ]
  },
  {
   "cell_type": "markdown",
   "id": "ee50cb29-b251-41fc-9314-159b9c66f024",
   "metadata": {},
   "source": [
    "# Classes"
   ]
  },
  {
   "cell_type": "code",
   "execution_count": null,
   "id": "18ae167f-6453-4037-b952-aa5eeef12a84",
   "metadata": {},
   "outputs": [],
   "source": [
    "class Dog:\n",
    "    \"\"\"Create a virtual friend with this class!\"\"\"\n",
    "    def __init__(self, name, age, bark_mode=\"Arf!\"):\n",
    "        \"\"\"This routine gives a recipe for making an instance of a dog.\"\"\"\n",
    "        self.name = name\n",
    "        self.age = age\n",
    "        self.bark_mode = bark_mode\n",
    "        \n",
    "    def __repr__(self):\n",
    "        \"\"\"This magic method tells how to get a string representation of an instance.\"\"\"\n",
    "        return self.name\n",
    "        \n",
    "    def bark(self):\n",
    "        \"\"\"Make the dog bark!\"\"\"\n",
    "        print(self.bark_mode)\n"
   ]
  },
  {
   "cell_type": "code",
   "execution_count": null,
   "id": "6f9d4a08-a7a1-4d72-a0ad-f2082f17493c",
   "metadata": {},
   "outputs": [],
   "source": [
    "this_dog = Dog(\"Alfie\", 4, \"WOOF\")  # This makes an instance of the Dog"
   ]
  },
  {
   "cell_type": "code",
   "execution_count": null,
   "id": "3ddb6672-7b9e-495a-9027-71d5f56cf3c5",
   "metadata": {},
   "outputs": [],
   "source": [
    "this_dog.bark()  # Let's see how it barks!"
   ]
  },
  {
   "cell_type": "code",
   "execution_count": null,
   "id": "5aaed0e1-791a-4888-b1b0-b815e203906c",
   "metadata": {},
   "outputs": [],
   "source": [
    "print(this_dog)  # Let's see what it's called"
   ]
  },
  {
   "cell_type": "code",
   "execution_count": null,
   "id": "9349c615-4444-4bc1-8719-cc4a5b9af702",
   "metadata": {},
   "outputs": [],
   "source": [
    "print(type(this_dog))"
   ]
  }
 ],
 "metadata": {
  "kernelspec": {
   "display_name": "Python 3 (ipykernel)",
   "language": "python",
   "name": "python3"
  },
  "language_info": {
   "codemirror_mode": {
    "name": "ipython",
    "version": 3
   },
   "file_extension": ".py",
   "mimetype": "text/x-python",
   "name": "python",
   "nbconvert_exporter": "python",
   "pygments_lexer": "ipython3",
   "version": "3.10.12"
  }
 },
 "nbformat": 4,
 "nbformat_minor": 5
}
