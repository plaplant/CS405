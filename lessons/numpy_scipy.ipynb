{
 "cells": [
  {
   "cell_type": "code",
   "execution_count": 1,
   "id": "df42dc5a",
   "metadata": {},
   "outputs": [],
   "source": [
    "import copy\n",
    "import numpy as np\n",
    "from scipy import stats"
   ]
  },
  {
   "cell_type": "code",
   "execution_count": 6,
   "id": "419c06d6",
   "metadata": {},
   "outputs": [],
   "source": [
    "# let's generate random numbers\n",
    "\n",
    "rng = np.random.default_rng()\n",
    "num2 = rng.uniform(0, 1, size=(10000,))"
   ]
  },
  {
   "cell_type": "markdown",
   "id": "d512a9ec",
   "metadata": {},
   "source": [
    "# For loops: generally slow\n",
    "\n",
    "## Computing the mean"
   ]
  },
  {
   "cell_type": "code",
   "execution_count": 26,
   "id": "010eae0b",
   "metadata": {},
   "outputs": [
    {
     "name": "stdout",
     "output_type": "stream",
     "text": [
      "900 ns ± 25.1 ns per loop (mean ± std. dev. of 7 runs, 1,000,000 loops each)\n"
     ]
    }
   ],
   "source": [
    "%%timeit\n",
    "# do it the slow way\n",
    "sval = 0.0\n",
    "for i in range(10):\n",
    "    sval += num2[i]\n",
    "avg = sval / len(num2)"
   ]
  },
  {
   "cell_type": "code",
   "execution_count": 27,
   "id": "85a8a110",
   "metadata": {},
   "outputs": [
    {
     "name": "stdout",
     "output_type": "stream",
     "text": [
      "1.58 µs ± 4.6 ns per loop (mean ± std. dev. of 7 runs, 1,000,000 loops each)\n"
     ]
    }
   ],
   "source": [
    "%%timeit\n",
    "# now the fast way\n",
    "#sval = np.sum(num2[0:10:1])\n",
    "sval = np.sum(num2[:10])\n",
    "avg = sval / num2.size"
   ]
  },
  {
   "cell_type": "code",
   "execution_count": 5,
   "id": "171dc0c8",
   "metadata": {},
   "outputs": [
    {
     "name": "stdout",
     "output_type": "stream",
     "text": [
      "2.42 µs ± 11.5 ns per loop (mean ± std. dev. of 7 runs, 100,000 loops each)\n"
     ]
    }
   ],
   "source": [
    "%%timeit\n",
    "# also fast!\n",
    "avg = np.mean(num)"
   ]
  },
  {
   "cell_type": "markdown",
   "id": "319ef5bc",
   "metadata": {},
   "source": [
    "## Creating a copy of an array, multiplying each element by 2"
   ]
  },
  {
   "cell_type": "code",
   "execution_count": 9,
   "id": "f03935ea",
   "metadata": {},
   "outputs": [
    {
     "name": "stdout",
     "output_type": "stream",
     "text": [
      "770 µs ± 2.53 µs per loop (mean ± std. dev. of 7 runs, 1,000 loops each)\n"
     ]
    }
   ],
   "source": [
    "%%timeit\n",
    "# multiply each element by 2\n",
    "arr2 = copy.deepcopy(num)\n",
    "for element in arr2:\n",
    "    arr2 *= 2"
   ]
  },
  {
   "cell_type": "code",
   "execution_count": 10,
   "id": "33ef69fb",
   "metadata": {},
   "outputs": [
    {
     "name": "stdout",
     "output_type": "stream",
     "text": [
      "851 ns ± 2.68 ns per loop (mean ± std. dev. of 7 runs, 1,000,000 loops each)\n"
     ]
    }
   ],
   "source": [
    "%%timeit\n",
    "# fast way!\n",
    "arr2 = num * 2"
   ]
  },
  {
   "cell_type": "markdown",
   "id": "ff60309a",
   "metadata": {},
   "source": [
    "# Don't _never_ use for loops"
   ]
  },
  {
   "cell_type": "code",
   "execution_count": 11,
   "id": "a69e9ffd",
   "metadata": {},
   "outputs": [
    {
     "name": "stdout",
     "output_type": "stream",
     "text": [
      "89.5 ms ± 393 µs per loop (mean ± std. dev. of 7 runs, 10 loops each)\n"
     ]
    }
   ],
   "source": [
    "%%timeit\n",
    "myvals = []\n",
    "for i in range(100):\n",
    "    sval = 0.0\n",
    "    for j in range(1000):\n",
    "        num = rng.uniform(0, 1)\n",
    "        sval += num\n",
    "    myvals.append(sval)"
   ]
  },
  {
   "cell_type": "code",
   "execution_count": 12,
   "id": "12b49017",
   "metadata": {},
   "outputs": [
    {
     "name": "stdout",
     "output_type": "stream",
     "text": [
      "682 µs ± 2.74 µs per loop (mean ± std. dev. of 7 runs, 1,000 loops each)\n"
     ]
    }
   ],
   "source": [
    "%%timeit\n",
    "myvals = []\n",
    "for i in range(100):\n",
    "    nums = rng.uniform(0, 1, size=(1000,))\n",
    "    sval = np.sum(nums)\n",
    "    myvals.append(sval)"
   ]
  },
  {
   "cell_type": "code",
   "execution_count": null,
   "id": "6ab88a46",
   "metadata": {},
   "outputs": [],
   "source": []
  },
  {
   "cell_type": "code",
   "execution_count": 22,
   "id": "c4157eed",
   "metadata": {},
   "outputs": [
    {
     "data": {
      "text/plain": [
       "list"
      ]
     },
     "execution_count": 22,
     "metadata": {},
     "output_type": "execute_result"
    }
   ],
   "source": [
    "mylist = [1, 2, 3, \"10\"]\n",
    "type(mylist)"
   ]
  },
  {
   "cell_type": "code",
   "execution_count": 23,
   "id": "7d16c025",
   "metadata": {},
   "outputs": [
    {
     "data": {
      "text/plain": [
       "numpy.ndarray"
      ]
     },
     "execution_count": 23,
     "metadata": {},
     "output_type": "execute_result"
    }
   ],
   "source": [
    "myarray = np.asarray(mylist, dtype=np.int64)\n",
    "type(myarray)"
   ]
  },
  {
   "cell_type": "code",
   "execution_count": 19,
   "id": "fc328250",
   "metadata": {},
   "outputs": [
    {
     "data": {
      "text/plain": [
       "dtype('<U21')"
      ]
     },
     "execution_count": 19,
     "metadata": {},
     "output_type": "execute_result"
    }
   ],
   "source": [
    "myarray.dtype"
   ]
  },
  {
   "cell_type": "code",
   "execution_count": 24,
   "id": "d2a061b1",
   "metadata": {},
   "outputs": [
    {
     "name": "stdout",
     "output_type": "stream",
     "text": [
      "[ 1  2  3 10]\n"
     ]
    }
   ],
   "source": [
    "print(myarray)"
   ]
  }
 ],
 "metadata": {
  "kernelspec": {
   "display_name": "Python 3 (ipykernel)",
   "language": "python",
   "name": "python3"
  },
  "language_info": {
   "codemirror_mode": {
    "name": "ipython",
    "version": 3
   },
   "file_extension": ".py",
   "mimetype": "text/x-python",
   "name": "python",
   "nbconvert_exporter": "python",
   "pygments_lexer": "ipython3",
   "version": "3.10.6"
  }
 },
 "nbformat": 4,
 "nbformat_minor": 5
}
